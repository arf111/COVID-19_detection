{
  "nbformat": 4,
  "nbformat_minor": 0,
  "metadata": {
    "colab": {
      "name": "PyTorch Covid-19 Detection.ipynb",
      "provenance": [],
      "collapsed_sections": [
        "wCY4Oni1TBt5"
      ],
      "toc_visible": true
    },
    "kernelspec": {
      "name": "python3",
      "display_name": "Python 3"
    },
    "accelerator": "GPU",
    "widgets": {
      "application/vnd.jupyter.widget-state+json": {
        "9e747acb29af4a33a9ca71898dbe3f47": {
          "model_module": "@jupyter-widgets/controls",
          "model_name": "HBoxModel",
          "state": {
            "_view_name": "HBoxView",
            "_dom_classes": [],
            "_model_name": "HBoxModel",
            "_view_module": "@jupyter-widgets/controls",
            "_model_module_version": "1.5.0",
            "_view_count": null,
            "_view_module_version": "1.5.0",
            "box_style": "",
            "layout": "IPY_MODEL_6591bc1185144861a8c71f776fdc5fac",
            "_model_module": "@jupyter-widgets/controls",
            "children": [
              "IPY_MODEL_fc088e2f177344e68fef30b55ff1bb20",
              "IPY_MODEL_8c14a63ba4394a4ea6e6bf4d7536a2ac"
            ]
          }
        },
        "6591bc1185144861a8c71f776fdc5fac": {
          "model_module": "@jupyter-widgets/base",
          "model_name": "LayoutModel",
          "state": {
            "_view_name": "LayoutView",
            "grid_template_rows": null,
            "right": null,
            "justify_content": null,
            "_view_module": "@jupyter-widgets/base",
            "overflow": null,
            "_model_module_version": "1.2.0",
            "_view_count": null,
            "flex_flow": null,
            "width": null,
            "min_width": null,
            "border": null,
            "align_items": null,
            "bottom": null,
            "_model_module": "@jupyter-widgets/base",
            "top": null,
            "grid_column": null,
            "overflow_y": null,
            "overflow_x": null,
            "grid_auto_flow": null,
            "grid_area": null,
            "grid_template_columns": null,
            "flex": null,
            "_model_name": "LayoutModel",
            "justify_items": null,
            "grid_row": null,
            "max_height": null,
            "align_content": null,
            "visibility": null,
            "align_self": null,
            "height": null,
            "min_height": null,
            "padding": null,
            "grid_auto_rows": null,
            "grid_gap": null,
            "max_width": null,
            "order": null,
            "_view_module_version": "1.2.0",
            "grid_template_areas": null,
            "object_position": null,
            "object_fit": null,
            "grid_auto_columns": null,
            "margin": null,
            "display": null,
            "left": null
          }
        },
        "fc088e2f177344e68fef30b55ff1bb20": {
          "model_module": "@jupyter-widgets/controls",
          "model_name": "IntProgressModel",
          "state": {
            "_view_name": "ProgressView",
            "style": "IPY_MODEL_cd351e9dac414a7e9b96fbe037f90921",
            "_dom_classes": [],
            "description": "100%",
            "_model_name": "IntProgressModel",
            "bar_style": "success",
            "max": 100441675,
            "_view_module": "@jupyter-widgets/controls",
            "_model_module_version": "1.5.0",
            "value": 100441675,
            "_view_count": null,
            "_view_module_version": "1.5.0",
            "orientation": "horizontal",
            "min": 0,
            "description_tooltip": null,
            "_model_module": "@jupyter-widgets/controls",
            "layout": "IPY_MODEL_38b74613caf042bb8987929435af9b60"
          }
        },
        "8c14a63ba4394a4ea6e6bf4d7536a2ac": {
          "model_module": "@jupyter-widgets/controls",
          "model_name": "HTMLModel",
          "state": {
            "_view_name": "HTMLView",
            "style": "IPY_MODEL_cfcb986313034268b117cad21c9e70ba",
            "_dom_classes": [],
            "description": "",
            "_model_name": "HTMLModel",
            "placeholder": "​",
            "_view_module": "@jupyter-widgets/controls",
            "_model_module_version": "1.5.0",
            "value": " 95.8M/95.8M [00:13&lt;00:00, 7.26MB/s]",
            "_view_count": null,
            "_view_module_version": "1.5.0",
            "description_tooltip": null,
            "_model_module": "@jupyter-widgets/controls",
            "layout": "IPY_MODEL_e907fefdb1f64c8cba9973bfffc2679f"
          }
        },
        "cd351e9dac414a7e9b96fbe037f90921": {
          "model_module": "@jupyter-widgets/controls",
          "model_name": "ProgressStyleModel",
          "state": {
            "_view_name": "StyleView",
            "_model_name": "ProgressStyleModel",
            "description_width": "initial",
            "_view_module": "@jupyter-widgets/base",
            "_model_module_version": "1.5.0",
            "_view_count": null,
            "_view_module_version": "1.2.0",
            "bar_color": null,
            "_model_module": "@jupyter-widgets/controls"
          }
        },
        "38b74613caf042bb8987929435af9b60": {
          "model_module": "@jupyter-widgets/base",
          "model_name": "LayoutModel",
          "state": {
            "_view_name": "LayoutView",
            "grid_template_rows": null,
            "right": null,
            "justify_content": null,
            "_view_module": "@jupyter-widgets/base",
            "overflow": null,
            "_model_module_version": "1.2.0",
            "_view_count": null,
            "flex_flow": null,
            "width": null,
            "min_width": null,
            "border": null,
            "align_items": null,
            "bottom": null,
            "_model_module": "@jupyter-widgets/base",
            "top": null,
            "grid_column": null,
            "overflow_y": null,
            "overflow_x": null,
            "grid_auto_flow": null,
            "grid_area": null,
            "grid_template_columns": null,
            "flex": null,
            "_model_name": "LayoutModel",
            "justify_items": null,
            "grid_row": null,
            "max_height": null,
            "align_content": null,
            "visibility": null,
            "align_self": null,
            "height": null,
            "min_height": null,
            "padding": null,
            "grid_auto_rows": null,
            "grid_gap": null,
            "max_width": null,
            "order": null,
            "_view_module_version": "1.2.0",
            "grid_template_areas": null,
            "object_position": null,
            "object_fit": null,
            "grid_auto_columns": null,
            "margin": null,
            "display": null,
            "left": null
          }
        },
        "cfcb986313034268b117cad21c9e70ba": {
          "model_module": "@jupyter-widgets/controls",
          "model_name": "DescriptionStyleModel",
          "state": {
            "_view_name": "StyleView",
            "_model_name": "DescriptionStyleModel",
            "description_width": "",
            "_view_module": "@jupyter-widgets/base",
            "_model_module_version": "1.5.0",
            "_view_count": null,
            "_view_module_version": "1.2.0",
            "_model_module": "@jupyter-widgets/controls"
          }
        },
        "e907fefdb1f64c8cba9973bfffc2679f": {
          "model_module": "@jupyter-widgets/base",
          "model_name": "LayoutModel",
          "state": {
            "_view_name": "LayoutView",
            "grid_template_rows": null,
            "right": null,
            "justify_content": null,
            "_view_module": "@jupyter-widgets/base",
            "overflow": null,
            "_model_module_version": "1.2.0",
            "_view_count": null,
            "flex_flow": null,
            "width": null,
            "min_width": null,
            "border": null,
            "align_items": null,
            "bottom": null,
            "_model_module": "@jupyter-widgets/base",
            "top": null,
            "grid_column": null,
            "overflow_y": null,
            "overflow_x": null,
            "grid_auto_flow": null,
            "grid_area": null,
            "grid_template_columns": null,
            "flex": null,
            "_model_name": "LayoutModel",
            "justify_items": null,
            "grid_row": null,
            "max_height": null,
            "align_content": null,
            "visibility": null,
            "align_self": null,
            "height": null,
            "min_height": null,
            "padding": null,
            "grid_auto_rows": null,
            "grid_gap": null,
            "max_width": null,
            "order": null,
            "_view_module_version": "1.2.0",
            "grid_template_areas": null,
            "object_position": null,
            "object_fit": null,
            "grid_auto_columns": null,
            "margin": null,
            "display": null,
            "left": null
          }
        }
      }
    }
  },
  "cells": [
    {
      "cell_type": "code",
      "metadata": {
        "id": "D4bn8BOyIyEQ",
        "colab_type": "code",
        "colab": {}
      },
      "source": [
        "from google.colab import drive\n",
        "drive.mount('/content/drive')"
      ],
      "execution_count": 0,
      "outputs": []
    },
    {
      "cell_type": "code",
      "metadata": {
        "id": "QQSEk9uYYuiX",
        "colab_type": "code",
        "colab": {}
      },
      "source": [
        "! git clone https://github.com/ieee8023/covid-chestxray-dataset.git\n",
        "! git clone https://github.com/lindawangg/COVID-Net.git\n",
        "\n",
        "! mkdir /content/rsna_dataset/\n",
        "! unzip '/content/drive/My Drive/Kaggle/rsna-pneumonia-detection-challenge.zip' -d /content/rsna_dataset/"
      ],
      "execution_count": 0,
      "outputs": []
    },
    {
      "cell_type": "code",
      "metadata": {
        "id": "2mgiPWlK5E2u",
        "colab_type": "code",
        "outputId": "f99f4144-ffef-4915-c61a-3be50a421c99",
        "colab": {
          "base_uri": "https://localhost:8080/",
          "height": 109
        }
      },
      "source": [
        "! pip install pydicom\n",
        "import torch\n",
        "import torch.nn as nn\n",
        "import torch.nn.functional as F\n",
        "from torch.utils.data import Dataset, DataLoader\n",
        "from functools import partial\n",
        "import torch.optim as optim\n",
        "import numpy as np \n",
        "import torchvision\n",
        "from torchvision import datasets, models, transforms\n",
        "from torch.utils import model_zoo\n",
        "\n",
        "import PIL\n",
        "import matplotlib.pyplot as plt \n",
        "import pandas as pd\n",
        "import random\n",
        "import math\n",
        "import os \n",
        "import copy \n",
        "from shutil import copyfile\n",
        "from PIL import Image\n",
        "import pydicom as dicom\n",
        "import cv2"
      ],
      "execution_count": 0,
      "outputs": [
        {
          "output_type": "stream",
          "text": [
            "Collecting pydicom\n",
            "\u001b[?25l  Downloading https://files.pythonhosted.org/packages/53/e6/4cae2b4b2fdbea5e2ddd188361139606d8f10f710ba1abecd6600da099c3/pydicom-1.4.2-py2.py3-none-any.whl (35.3MB)\n",
            "\u001b[K     |████████████████████████████████| 35.3MB 83kB/s \n",
            "\u001b[?25hInstalling collected packages: pydicom\n",
            "Successfully installed pydicom-1.4.2\n"
          ],
          "name": "stdout"
        }
      ]
    },
    {
      "cell_type": "markdown",
      "metadata": {
        "id": "Iw4leMteZViP",
        "colab_type": "text"
      },
      "source": [
        "## Make Data Ready"
      ]
    },
    {
      "cell_type": "code",
      "metadata": {
        "id": "7NwtBtqrZKlQ",
        "colab_type": "code",
        "colab": {}
      },
      "source": [
        "MAXVAL = 255  # Range [0 255]\n",
        "root = '/content/covid-chestxray-dataset'\n",
        "COPY_FILE = True\n",
        "\n",
        "if (COPY_FILE):\n",
        "    savepath = root + '/data'\n",
        "    if(not os.path.exists(savepath)):\n",
        "        os.makedirs(savepath)\n",
        "    savepath = root + '/data/train'\n",
        "    if(not os.path.exists(savepath)):\n",
        "        os.makedirs(savepath)\n",
        "    savepath = root + '/data/test'\n",
        "    if(not os.path.exists(savepath)):\n",
        "        os.makedirs(savepath)\n",
        "\n",
        "savepath = root + '/data'\n",
        "# path to covid-19 dataset from https://github.com/ieee8023/covid-chestxray-dataset\n",
        "imgpath = root + '/images' \n",
        "csvpath = root + '/metadata.csv'\n",
        "\n",
        "# path to https://www.kaggle.com/c/rsna-pneumonia-detection-challenge\n",
        "kaggle_datapath = '/content/rsna_dataset'\n",
        "kaggle_csvname = 'stage_2_detailed_class_info.csv' # get all the normal from here\n",
        "kaggle_csvname2 = 'stage_2_train_labels.csv' # get all the 1s from here since 1 indicate pneumonia\n",
        "kaggle_imgpath = 'stage_2_train_images'\n",
        "\n",
        "# parameters for COVIDx dataset\n",
        "train = []\n",
        "test = []\n",
        "test_count = {'normal': 0, 'pneumonia': 0, 'COVID-19': 0}\n",
        "train_count = {'normal': 0, 'pneumonia': 0, 'COVID-19': 0}\n",
        "\n",
        "mapping = dict()\n",
        "mapping['COVID-19'] = 'COVID-19'\n",
        "mapping['COVID-19, ARDS'] = 'COVID-19'\n",
        "mapping['SARS'] = 'pneumonia'\n",
        "mapping['MERS'] = 'pneumonia'\n",
        "mapping['Streptococcus'] = 'pneumonia'\n",
        "mapping['Normal'] = 'normal'\n",
        "mapping['Lung Opacity'] = 'pneumonia'\n",
        "mapping['1'] = 'pneumonia'\n",
        "\n",
        "# train/test split\n",
        "split = 0.1"
      ],
      "execution_count": 0,
      "outputs": []
    },
    {
      "cell_type": "code",
      "metadata": {
        "id": "IwssUm4_ZLYg",
        "colab_type": "code",
        "colab": {}
      },
      "source": [
        "# adapted from https://github.com/mlmed/torchxrayvision/blob/master/torchxrayvision/datasets.py#L814\n",
        "csv = pd.read_csv(csvpath, nrows=None)\n",
        "idx_pa = csv[\"view\"] == \"PA\"  # Keep only the PA view\n",
        "csv = csv[idx_pa]\n",
        "\n",
        "pneumonias = [\"COVID-19\", \"SARS\", \"MERS\", \"ARDS\", \"Streptococcus\"]\n",
        "pathologies = [\"Pneumonia\",\"Viral Pneumonia\", \"Bacterial Pneumonia\", \"No Finding\"] + pneumonias\n",
        "pathologies = sorted(pathologies)"
      ],
      "execution_count": 0,
      "outputs": []
    },
    {
      "cell_type": "code",
      "metadata": {
        "id": "ZuT6RgETZMyP",
        "colab_type": "code",
        "outputId": "9b7c3aa3-feb6-4769-abaa-b369a871c3ee",
        "colab": {
          "base_uri": "https://localhost:8080/",
          "height": 54
        }
      },
      "source": [
        "# get non-COVID19 viral, bacteria, and COVID-19 infections from covid-chestxray-dataset\n",
        "# stored as patient id, image filename and label\n",
        "filename_label = {'normal': [], 'pneumonia': [], 'COVID-19': []}\n",
        "count = {'normal': 0, 'pneumonia': 0, 'COVID-19': 0}\n",
        "for index, row in csv.iterrows():\n",
        "    f = row['finding']\n",
        "    if f in mapping:\n",
        "        count[mapping[f]] += 1\n",
        "        entry = [int(row['patientid']), row['filename'], mapping[f]]\n",
        "        filename_label[mapping[f]].append(entry)\n",
        "\n",
        "print('Data distribution from covid-chestxray-dataset:')\n",
        "print(count)"
      ],
      "execution_count": 0,
      "outputs": [
        {
          "output_type": "stream",
          "text": [
            "Data distribution from covid-chestxray-dataset:\n",
            "{'normal': 0, 'pneumonia': 29, 'COVID-19': 125}\n"
          ],
          "name": "stdout"
        }
      ]
    },
    {
      "cell_type": "code",
      "metadata": {
        "id": "0MsxobRcZOBT",
        "colab_type": "code",
        "outputId": "adab200c-c535-42c4-c560-99da5d0de5da",
        "colab": {
          "base_uri": "https://localhost:8080/",
          "height": 127
        }
      },
      "source": [
        "# add covid-chestxray-dataset into COVIDx dataset\n",
        "# since covid-chestxray-dataset doesn't have test dataset\n",
        "# split into train/test by patientid\n",
        "# for COVIDx:\n",
        "# patient 8 is used as non-COVID19 viral test\n",
        "# patient 31 is used as bacterial test\n",
        "# patients 19, 20, 36, 42, 86 are used as COVID-19 viral test\n",
        "\n",
        "for key in filename_label.keys():\n",
        "    arr = np.array(filename_label[key])\n",
        "    if arr.size == 0:\n",
        "        continue\n",
        "    # split by patients\n",
        "    # num_diff_patients = len(np.unique(arr[:,0]))\n",
        "    # num_test = max(1, round(split*num_diff_patients))\n",
        "    # select num_test number of random patients\n",
        "    if key == 'pneumonia':\n",
        "        test_patients = ['8', '31']\n",
        "    elif key == 'COVID-19':\n",
        "        test_patients = ['19', '20', '36', '42', '86'] # random.sample(list(arr[:,0]), num_test)\n",
        "    else: \n",
        "        test_patients = []\n",
        "    print('Key: ', key)\n",
        "    print('Test patients: ', test_patients)\n",
        "    # go through all the patients\n",
        "    for patient in arr:\n",
        "        if patient[0] in test_patients:\n",
        "            if (COPY_FILE):\n",
        "              if os.path.exists(os.path.join(imgpath, patient[1])):\n",
        "                  copyfile(os.path.join(imgpath, patient[1]), os.path.join(savepath, 'test', patient[1]))\n",
        "                  test.append(patient)\n",
        "                  test_count[patient[2]] += 1\n",
        "            else:\n",
        "                if os.path.exists(os.path.join(savepath, 'test', patient[1])):\n",
        "                  test.append(patient)\n",
        "                  test_count[patient[2]] += 1\n",
        "        else:\n",
        "            if (COPY_FILE):\n",
        "                if os.path.exists(os.path.join(imgpath, patient[1])):\n",
        "                  copyfile(os.path.join(imgpath, patient[1]), os.path.join(savepath, 'train', patient[1]))\n",
        "                  train.append(patient)\n",
        "                  train_count[patient[2]] += 1\n",
        "            else:\n",
        "                if os.path.exists(os.path.join(savepath, 'train', patient[1])):\n",
        "                  train.append(patient)\n",
        "                  train_count[patient[2]] += 1\n",
        "                \n",
        "print('test count: ', test_count)\n",
        "print('train count: ', train_count)"
      ],
      "execution_count": 0,
      "outputs": [
        {
          "output_type": "stream",
          "text": [
            "Key:  pneumonia\n",
            "Test patients:  ['8', '31']\n",
            "Key:  COVID-19\n",
            "Test patients:  ['19', '20', '36', '42', '86']\n",
            "test count:  {'normal': 0, 'pneumonia': 5, 'COVID-19': 10}\n",
            "train count:  {'normal': 0, 'pneumonia': 24, 'COVID-19': 115}\n"
          ],
          "name": "stdout"
        }
      ]
    },
    {
      "cell_type": "code",
      "metadata": {
        "id": "ngKwUjHVZTuT",
        "colab_type": "code",
        "outputId": "e9989f34-1f7a-4f1f-fd15-60afbcf6cf98",
        "colab": {
          "base_uri": "https://localhost:8080/",
          "height": 72
        }
      },
      "source": [
        "# add normal and rest of pneumonia cases from https://www.kaggle.com/c/rsna-pneumonia-detection-challenge\n",
        "kaggle_datapath = '/content/rsna_dataset'\n",
        "\n",
        "print(kaggle_datapath)\n",
        "csv_normal = pd.read_csv(os.path.join(kaggle_datapath, kaggle_csvname), nrows=None)\n",
        "csv_pneu = pd.read_csv(os.path.join(kaggle_datapath, kaggle_csvname2), nrows=None)\n",
        "patients = {'normal': [], 'pneumonia': []}\n",
        "\n",
        "for index, row in csv_normal.iterrows():\n",
        "    if row['class'] == 'Normal':\n",
        "        patients['normal'].append(row['patientId'])\n",
        "\n",
        "for index, row in csv_pneu.iterrows():\n",
        "    if int(row['Target']) == 1:\n",
        "        patients['pneumonia'].append(row['patientId'])\n",
        "\n",
        "for key in patients.keys():\n",
        "    arr = np.array(patients[key])\n",
        "    if arr.size == 0:\n",
        "        continue\n",
        "    # split by patients \n",
        "    # num_diff_patients = len(np.unique(arr))\n",
        "    # num_test = max(1, round(split*num_diff_patients))\n",
        "    #'/content/COVID-Net/'\n",
        "    test_patients = np.load('/content/COVID-Net/rsna_test_patients_{}.npy'.format(key)) # random.sample(list(arr), num_test)\n",
        "    # np.save('rsna_test_patients_{}.npy'.format(key), np.array(test_patients))\n",
        "    for patient in arr:\n",
        "        if (COPY_FILE):\n",
        "          ds = dicom.dcmread(os.path.join(kaggle_datapath, kaggle_imgpath, patient + '.dcm'))\n",
        "          pixel_array_numpy = ds.pixel_array\n",
        "\n",
        "        imgname = patient + '.png'\n",
        "        \n",
        "        if patient in test_patients:\n",
        "            if (COPY_FILE):\n",
        "                cv2.imwrite(os.path.join(savepath, 'test', imgname), pixel_array_numpy)\n",
        "                test.append([patient, imgname, key])\n",
        "                test_count[key] += 1\n",
        "            else:\n",
        "                test.append([patient, imgname, key])\n",
        "                test_count[key] += 1\n",
        "        else:\n",
        "            if (COPY_FILE):\n",
        "                cv2.imwrite(os.path.join(savepath, 'train', imgname), pixel_array_numpy)\n",
        "                train.append([patient, imgname, key])\n",
        "                train_count[key] += 1\n",
        "            else:\n",
        "                train.append([patient, imgname, key])\n",
        "                train_count[key] += 1\n",
        "\n",
        "print('test count: ', test_count)\n",
        "print('train count: ', train_count)\n",
        "samples_per_class = [train_count['normal'],train_count['pneumonia'],train_count['COVID-19']]"
      ],
      "execution_count": 0,
      "outputs": [
        {
          "output_type": "stream",
          "text": [
            "/content/rsna_dataset\n",
            "test count:  {'normal': 885, 'pneumonia': 1058, 'COVID-19': 10}\n",
            "train count:  {'normal': 7966, 'pneumonia': 8526, 'COVID-19': 115}\n"
          ],
          "name": "stdout"
        }
      ]
    },
    {
      "cell_type": "markdown",
      "metadata": {
        "id": "NuHPTVTiZpQZ",
        "colab_type": "text"
      },
      "source": [
        "## Final Data Stats"
      ]
    },
    {
      "cell_type": "code",
      "metadata": {
        "id": "ENyBqc2aZltI",
        "colab_type": "code",
        "outputId": "3bd4a478-73cd-41ef-80f6-397197a12530",
        "colab": {
          "base_uri": "https://localhost:8080/",
          "height": 109
        }
      },
      "source": [
        "# final stats\n",
        "print('Final stats')\n",
        "print('Train count: ', train_count)\n",
        "print('Test count: ', test_count)\n",
        "print('Total length of train: ', len(train))\n",
        "print('Total length of test: ', len(test))"
      ],
      "execution_count": 0,
      "outputs": [
        {
          "output_type": "stream",
          "text": [
            "Final stats\n",
            "Train count:  {'normal': 7966, 'pneumonia': 8526, 'COVID-19': 115}\n",
            "Test count:  {'normal': 885, 'pneumonia': 1058, 'COVID-19': 10}\n",
            "Total length of train:  16607\n",
            "Total length of test:  1953\n"
          ],
          "name": "stdout"
        }
      ]
    },
    {
      "cell_type": "markdown",
      "metadata": {
        "id": "osSUsGCPZuvP",
        "colab_type": "text"
      },
      "source": [
        "## train and test file extraction"
      ]
    },
    {
      "cell_type": "code",
      "metadata": {
        "id": "2qmTQ2KFZxWK",
        "colab_type": "code",
        "colab": {}
      },
      "source": [
        "# export to train and test csv\n",
        "# format as patientid, filename, label, separated by a space\n",
        "\n",
        "if (COPY_FILE):\n",
        "  train_file = open(\"train_split_v2.txt\",\"w\") \n",
        "  for sample in train:\n",
        "      info = str(sample[0]) + ' ' + sample[1] + ' ' + sample[2] + '\\n'\n",
        "      train_file.write(info)\n",
        "\n",
        "  train_file.close()\n",
        "\n",
        "  test_file = open(\"test_split_v2.txt\", \"w\")\n",
        "  for sample in test:\n",
        "      info = str(sample[0]) + ' ' + sample[1] + ' ' + sample[2] + '\\n'\n",
        "      test_file.write(info)\n",
        "\n",
        "  test_file.close()"
      ],
      "execution_count": 0,
      "outputs": []
    },
    {
      "cell_type": "markdown",
      "metadata": {
        "id": "rPNpKDQuZaPH",
        "colab_type": "text"
      },
      "source": [
        "## Data Loader"
      ]
    },
    {
      "cell_type": "code",
      "metadata": {
        "id": "b3RHYvCS5WLN",
        "colab_type": "code",
        "colab": {}
      },
      "source": [
        "train_loader = transforms.Compose([\n",
        "    transforms.Resize(256),\n",
        "    transforms.CenterCrop(224),\n",
        "    transforms.ToTensor(),\n",
        "    transforms.Normalize([0.485, 0.456, 0.406], [0.229, 0.224, 0.225])\n",
        "])\n",
        "test_loader = transforms.Compose([\n",
        "    transforms.Resize(256),\n",
        "    transforms.CenterCrop(224),\n",
        "    transforms.ToTensor(),\n",
        "    transforms.Normalize([0.485, 0.456, 0.406], [0.229, 0.224, 0.225])\n",
        "])"
      ],
      "execution_count": 0,
      "outputs": []
    },
    {
      "cell_type": "code",
      "metadata": {
        "id": "l6S0klJOZ22y",
        "colab_type": "code",
        "colab": {}
      },
      "source": [
        "def read_filepaths(file):\n",
        "    paths, labels = [], []\n",
        "\n",
        "    with open(file, 'r') as f:\n",
        "        lines = f.read().splitlines()\n",
        "\n",
        "        for idx, line in enumerate(lines):\n",
        "            if ('/ c o' in line):\n",
        "                break\n",
        "            _, path, label = line.split(' ')\n",
        "\n",
        "            paths.append(path)\n",
        "            labels.append(label)\n",
        "    return paths, labels\n",
        "\n",
        "class COVIDx_Dataset(Dataset):\n",
        "    def __init__(self, mode, dataset_path='./datasets', transform=None):\n",
        "        self.root = str(dataset_path)+'/'+mode+'/'\n",
        "        self.mode = mode\n",
        "        self.classes = {'pneumonia': 0, 'normal': 1, 'COVID-19': 2}\n",
        "        self.transform = transform\n",
        "\n",
        "        testfile = '/content/test_split_v2.txt'\n",
        "        trainfile = '/content/train_split_v2.txt'\n",
        "        \n",
        "        if (self.mode == 'train'):\n",
        "            self.paths, self.labels = read_filepaths(trainfile)\n",
        "        elif (self.mode == 'test'):\n",
        "            self.paths, self.labels = read_filepaths(testfile)\n",
        "        \n",
        "    def __len__(self):\n",
        "        return len(self.paths)\n",
        "\n",
        "    def __getitem__(self, index):\n",
        "        img_path = self.root + self.paths[index]\n",
        "\n",
        "        image = Image.open(img_path).convert('RGB')\n",
        "        label_tensor = torch.tensor(self.classes[self.labels[index]])\n",
        "\n",
        "        if self.transform is not None:\n",
        "          image_tensor = self.transform(image)\n",
        "\n",
        "        return image_tensor, label_tensor"
      ],
      "execution_count": 0,
      "outputs": []
    },
    {
      "cell_type": "code",
      "metadata": {
        "id": "NkCtEuhe6nV7",
        "colab_type": "code",
        "outputId": "063b8987-79b4-4727-96ca-9c6485304757",
        "colab": {
          "base_uri": "https://localhost:8080/",
          "height": 35
        }
      },
      "source": [
        "data_path = '/content/covid-chestxray-dataset/data'\n",
        "BATCH_SIZE = 4\n",
        "class_names = ['pneumonia','normal','COVID-19']\n",
        "\n",
        "train_dataset = COVIDx_Dataset(mode='train', dataset_path=data_path,\n",
        "                                 transform = train_loader)\n",
        "val_dataset = COVIDx_Dataset(mode='test', dataset_path=data_path,\n",
        "                               transform = test_loader)\n",
        "\n",
        "train_image_dataloader = DataLoader(train_dataset, batch_size=BATCH_SIZE,\n",
        "                        shuffle=True, num_workers=4)\n",
        "\n",
        "val_image_dataloader = DataLoader(val_dataset, batch_size=BATCH_SIZE,\n",
        "                        shuffle=True, num_workers=4)\n",
        "\n",
        "dataset_sizes = {'train':len(train),'val':len(test)}\n",
        "print(dataset_sizes)\n",
        "device = torch.device(\"cuda:0\" if torch.cuda.is_available() else \"cpu\")"
      ],
      "execution_count": 0,
      "outputs": [
        {
          "output_type": "stream",
          "text": [
            "{'train': 16607, 'val': 1953}\n"
          ],
          "name": "stdout"
        }
      ]
    },
    {
      "cell_type": "code",
      "metadata": {
        "id": "O7xeA53VPa18",
        "colab_type": "code",
        "outputId": "63cbcb9c-4525-4f3e-9b32-d2fd9197a3cf",
        "colab": {
          "base_uri": "https://localhost:8080/",
          "height": 148
        }
      },
      "source": [
        "def imshow(inp, title=None):\n",
        "    \"\"\"Imshow for Tensor.\"\"\"\n",
        "    inp = inp.numpy().transpose((1, 2, 0))\n",
        "    mean = np.array([0.485, 0.456, 0.406])\n",
        "    std = np.array([0.229, 0.224, 0.225])\n",
        "    inp = std * inp + mean\n",
        "    inp = np.clip(inp, 0, 1)\n",
        "    plt.imshow(inp)\n",
        "    if title is not None:\n",
        "        plt.title(title)\n",
        "    plt.pause(0.001)  # pause a bit so that plots are updated\n",
        "  \n",
        "# Get a batch of training data\n",
        "inputs, classes = next(iter(train_image_dataloader))\n",
        "\n",
        "# Make a grid from batch\n",
        "out = torchvision.utils.make_grid(inputs)\n",
        "\n",
        "imshow(out, title=[class_names[x] for x in classes])"
      ],
      "execution_count": 0,
      "outputs": [
        {
          "output_type": "display_data",
          "data": {
            "image/png": "[encoded data removed]",
            "text/plain": [
              "<Figure size 432x288 with 1 Axes>"
            ]
          },
          "metadata": {
            "tags": [],
            "needs_background": "light"
          }
        }
      ]
    },
    {
      "cell_type": "markdown",
      "metadata": {
        "id": "gfOafMBY9z22",
        "colab_type": "text"
      },
      "source": [
        "## COVID-Net"
      ]
    },
    {
      "cell_type": "code",
      "metadata": {
        "id": "OnGLWTSL94RN",
        "colab_type": "code",
        "colab": {}
      },
      "source": [
        "class PEPX_Module(nn.Module):\n",
        "    def __init__(self, inplanes, planes):\n",
        "        super(PEPX_Module, self).__init__()\n",
        "\n",
        "        self.module = nn.Sequential(\n",
        "                          nn.Conv2d(in_channels=inplanes, out_channels=inplanes, kernel_size=1),# conv1x1\n",
        "                          nn.BatchNorm2d(inplanes),\n",
        "                          nn.ReLU(inplace=True),\n",
        "\n",
        "                          nn.Conv2d(in_channels=inplanes, out_channels=planes, kernel_size=1), # conv1x1\n",
        "                          nn.BatchNorm2d(planes),\n",
        "                          nn.ReLU(inplace=True),\n",
        "\n",
        "                          nn.Conv2d(in_channels=planes, out_channels=planes, kernel_size=3, groups=planes, padding=1), # DWConv3x3\n",
        "                          nn.BatchNorm2d(planes),\n",
        "                          nn.ReLU(inplace=True),\n",
        "\n",
        "                          nn.Conv2d(in_channels=planes, out_channels=planes, kernel_size=1), # conv1x1\n",
        "                          nn.BatchNorm2d(planes),\n",
        "                          nn.ReLU(inplace=True),\n",
        "\n",
        "                          nn.Conv2d(in_channels=planes, out_channels=planes, kernel_size=1),# conv1x1\n",
        "                          nn.BatchNorm2d(planes),\n",
        "                          nn.ReLU(inplace=True)\n",
        "                       )\n",
        "\n",
        "    def forward(self, x):\n",
        "        return self.module(x)\n",
        "\n",
        "class CovidNet(nn.Module):\n",
        "    def __init__(self, n_classes=3):\n",
        "        super(CovidNet, self).__init__()\n",
        "        \n",
        "        self.conv1 = nn.Sequential(\n",
        "                      nn.Conv2d(in_channels=3, out_channels=64, kernel_size=7, stride=2, padding=3),\n",
        "                      nn.BatchNorm2d(64),\n",
        "                      nn.ReLU(inplace=True)\n",
        "                     )\n",
        "        self.conv1_1x1 = nn.Sequential(\n",
        "                      nn.Conv2d(in_channels=64, out_channels=256, kernel_size=1),\n",
        "                      nn.BatchNorm2d(256),\n",
        "                      nn.ReLU(inplace=True)\n",
        "                     )\n",
        "        self.conv2_1x1 = nn.Sequential(\n",
        "                      nn.Conv2d(in_channels=256, out_channels=512, kernel_size=1),\n",
        "                      nn.BatchNorm2d(512),\n",
        "                      nn.ReLU(inplace=True)\n",
        "                     )\n",
        "        self.conv3_1x1 = nn.Sequential(\n",
        "                      nn.Conv2d(in_channels=512, out_channels=1024, kernel_size=1),\n",
        "                      nn.BatchNorm2d(1024),\n",
        "                      nn.ReLU(inplace=True)\n",
        "                     )\n",
        "        self.conv4_1x1 = nn.Sequential(\n",
        "                      nn.Conv2d(in_channels=1024, out_channels=2048, kernel_size=1),\n",
        "                      nn.BatchNorm2d(2048),\n",
        "                      nn.ReLU(inplace=True)\n",
        "                     )\n",
        "\n",
        "        self.pepxmodule1_1 = PEPX_Module(64, 256)\n",
        "        self.pepxmodule1_2 = PEPX_Module(256, 256)\n",
        "        self.pepxmodule1_3 = PEPX_Module(256, 256)\n",
        "        self.pepxmodule2_1 = PEPX_Module(256, 512)\n",
        "        self.pepxmodule2_2 = PEPX_Module(512, 512)\n",
        "        self.pepxmodule2_3 = PEPX_Module(512, 512)\n",
        "        self.pepxmodule2_4 = PEPX_Module(512, 512)\n",
        "        self.pepxmodule3_1 = PEPX_Module(512, 1024)\n",
        "        self.pepxmodule3_2 = PEPX_Module(1024, 1024)\n",
        "        self.pepxmodule3_3 = PEPX_Module(1024, 1024)\n",
        "        self.pepxmodule3_4 = PEPX_Module(1024, 1024)\n",
        "        self.pepxmodule3_5 = PEPX_Module(1024, 1024)\n",
        "        self.pepxmodule3_6 = PEPX_Module(1024, 1024)\n",
        "        self.pepxmodule4_1 = PEPX_Module(1024, 2048)\n",
        "        self.pepxmodule4_2 = PEPX_Module(2048, 2048)\n",
        "        self.pepxmodule4_3 = PEPX_Module(2048, 2048)\n",
        "\n",
        "        self.maxpool = nn.MaxPool2d(kernel_size=2)  \n",
        "        self.relu = nn.ReLU(inplace=True)\n",
        "\n",
        "        self.flatten = nn.Flatten()\n",
        "        self.fc1 = nn.Linear(7 * 7 * 2048, 1024)\n",
        "        self.fc2 = nn.Linear(1024, 256)\n",
        "        self.classifier = nn.Linear(256, n_classes)\n",
        "\n",
        "    def forward(self, x):\n",
        "        x = self.maxpool(self.conv1(x))\n",
        "        out_conv1_1x1 = self.conv1_1x1(x)\n",
        "\n",
        "        pepx1_1 = self.pepxmodule1_1(x)\n",
        "        pepx1_2 = self.pepxmodule1_2(pepx1_1 + out_conv1_1x1)\n",
        "        pepx1_3 = self.pepxmodule1_3(pepx1_2 + pepx1_1 + out_conv1_1x1)\n",
        "\n",
        "        out_conv2_1x1 = self.maxpool(self.conv2_1x1(pepx1_2 + pepx1_1 + pepx1_3 +  out_conv1_1x1))\n",
        "\n",
        "        pepx2_1 = self.pepxmodule2_1(self.maxpool(pepx1_3) + self.maxpool(pepx1_1) + self.maxpool(pepx1_2) + \n",
        "                              self.maxpool(out_conv1_1x1))\n",
        "        pepx2_2 = self.pepxmodule2_2(pepx2_1 + out_conv2_1x1)\n",
        "        pepx2_3 = self.pepxmodule2_3(pepx2_2 + pepx2_1 + out_conv2_1x1)\n",
        "        pepx2_4 = self.pepxmodule2_4(pepx2_3 + pepx2_1 + pepx2_2 + out_conv2_1x1)\n",
        "\n",
        "        out_conv3_1x1 = self.maxpool(self.conv3_1x1(pepx2_2 + pepx2_1 + pepx2_3 + pepx2_4 + out_conv2_1x1))\n",
        "\n",
        "        pepx3_1 = self.pepxmodule3_1(self.maxpool(pepx2_4) + self.maxpool(pepx2_1) + self.maxpool(pepx2_2) + \n",
        "                              self.maxpool(pepx2_3) + self.maxpool(out_conv2_1x1)\n",
        "                              )\n",
        "        pepx3_2 = self.pepxmodule3_2(pepx3_1 + out_conv3_1x1)\n",
        "        pepx3_3 = self.pepxmodule3_3(pepx3_1 + pepx3_2)\n",
        "        pepx3_4 = self.pepxmodule3_4(pepx3_1 + pepx3_2 + pepx3_3)\n",
        "        pepx3_5 = self.pepxmodule3_5(pepx3_1 + pepx3_2 + pepx3_3 + pepx3_4)\n",
        "        pepx3_6 = self.pepxmodule3_6(pepx3_1 + pepx3_2 + pepx3_3 + pepx3_4 + pepx3_5)\n",
        "\n",
        "        out_conv4_1x1 = self.maxpool(self.conv4_1x1(pepx3_1 + pepx3_2 + pepx3_3 + pepx3_4 + pepx3_5+ pepx3_6 + out_conv3_1x1))\n",
        "\n",
        "        pepx4_1 = self.pepxmodule4_1(self.maxpool(pepx3_1) + self.maxpool(pepx3_2) + self.maxpool(pepx3_2) + \n",
        "                              self.maxpool(pepx3_4)+ self.maxpool(pepx3_5)+ self.maxpool(pepx3_6) + self.maxpool(out_conv3_1x1)\n",
        "                              )\n",
        "        pepx4_2 = self.pepxmodule4_2(pepx4_1 + out_conv4_1x1)\n",
        "        pepx4_3 = self.pepxmodule4_3(pepx4_1 + pepx4_2 + out_conv4_1x1)\n",
        "        flattened = self.flatten(pepx4_1 + pepx4_2 + pepx4_3 + out_conv4_1x1)\n",
        "\n",
        "        fc_1024 = self.relu(self.fc1(flattened))\n",
        "        fc_256 = self.relu(self.fc2(fc_1024))\n",
        "        logits = self.classifier(fc_256)\n",
        "        return logits"
      ],
      "execution_count": 0,
      "outputs": []
    },
    {
      "cell_type": "code",
      "metadata": {
        "id": "2fiaSGyAOBBe",
        "colab_type": "code",
        "colab": {}
      },
      "source": [
        "def test_model():\n",
        "    net = CovidNet()\n",
        "    inp = torch.randn(4,3,224,224)\n",
        "    output = net(inp)\n",
        "    print(output.shape)\n",
        "\n",
        "# test_model()  "
      ],
      "execution_count": 0,
      "outputs": []
    },
    {
      "cell_type": "markdown",
      "metadata": {
        "id": "Pb_lR0NEXTvL",
        "colab_type": "text"
      },
      "source": [
        "## Focal Loss"
      ]
    },
    {
      "cell_type": "code",
      "metadata": {
        "id": "yDSx3mBMXWa3",
        "colab_type": "code",
        "colab": {}
      },
      "source": [
        "class FocalLoss(nn.Module):\n",
        "    def __init__(self, gamma=2.0, alpha = 1.0, eps=1e-7):\n",
        "        super(FocalLoss, self).__init__()\n",
        "        self.gamma = gamma\n",
        "        self.alpha = alpha\n",
        "        self.eps = eps\n",
        "\n",
        "    def forward(self, input, target):\n",
        "        y = F.one_hot(target, input.size(-1))\n",
        "        logit = F.softmax(input, dim=-1) # dim along which softmax will be computed (dim=-1 = last dimension = no_of_classes)\n",
        "        logit = logit.clamp(self.eps, 1. - self.eps) # make range [self.eps, 1. - self.eps]\n",
        "        \n",
        "        loss = -self.alpha * y * torch.log(logit) # cross entropy\n",
        "        loss = loss * (1 - logit) ** self.gamma # focal loss\n",
        "\n",
        "        return loss.sum()"
      ],
      "execution_count": 0,
      "outputs": []
    },
    {
      "cell_type": "markdown",
      "metadata": {
        "id": "2QaCxKl6bzHl",
        "colab_type": "text"
      },
      "source": [
        "## Test Loss"
      ]
    },
    {
      "cell_type": "code",
      "metadata": {
        "id": "p-SUBQWoZm__",
        "colab_type": "code",
        "colab": {}
      },
      "source": [
        "def test_loss():\n",
        "    no_of_classes = 5\n",
        "    logits = torch.rand(10,no_of_classes)\n",
        "    labels = torch.randint(0,no_of_classes, size = (10,))\n",
        "    gamma = 2.0\n",
        "    criterion = FocalLoss(gamma=gamma)\n",
        "    loss = criterion(logits, labels)\n",
        "    print(loss)\n",
        "\n",
        "# test_loss()"
      ],
      "execution_count": 0,
      "outputs": []
    },
    {
      "cell_type": "markdown",
      "metadata": {
        "id": "5t9sckNzGp5K",
        "colab_type": "text"
      },
      "source": [
        "## Set Model & Hyperparameter"
      ]
    },
    {
      "cell_type": "code",
      "metadata": {
        "id": "9EOv_JVUoTWx",
        "colab_type": "code",
        "outputId": "40def21a-af70-4682-882f-906e6e07bfc2",
        "colab": {
          "base_uri": "https://localhost:8080/",
          "height": 86,
          "referenced_widgets": [
            "9e747acb29af4a33a9ca71898dbe3f47",
            "6591bc1185144861a8c71f776fdc5fac",
            "fc088e2f177344e68fef30b55ff1bb20",
            "8c14a63ba4394a4ea6e6bf4d7536a2ac",
            "cd351e9dac414a7e9b96fbe037f90921",
            "38b74613caf042bb8987929435af9b60",
            "cfcb986313034268b117cad21c9e70ba",
            "e907fefdb1f64c8cba9973bfffc2679f"
          ]
        }
      },
      "source": [
        "# model = models.resnet18(pretrained=True)\n",
        "model = models.resnext50_32x4d(pretrained=True)\n",
        "# model = CovidNet()"
      ],
      "execution_count": 0,
      "outputs": [
        {
          "output_type": "stream",
          "text": [
            "Downloading: \"https://download.pytorch.org/models/resnext50_32x4d-7cdf4587.pth\" to /root/.cache/torch/checkpoints/resnext50_32x4d-7cdf4587.pth\n"
          ],
          "name": "stderr"
        },
        {
          "output_type": "display_data",
          "data": {
            "application/vnd.jupyter.widget-view+json": {
              "model_id": "9e747acb29af4a33a9ca71898dbe3f47",
              "version_minor": 0,
              "version_major": 2
            },
            "text/plain": [
              "HBox(children=(IntProgress(value=0, max=100441675), HTML(value='')))"
            ]
          },
          "metadata": {
            "tags": []
          }
        },
        {
          "output_type": "stream",
          "text": [
            "\n"
          ],
          "name": "stdout"
        }
      ]
    },
    {
      "cell_type": "code",
      "metadata": {
        "id": "tIXGGmGNWOgM",
        "colab_type": "code",
        "outputId": "fbc8fd49-bc86-4c85-8636-4b7f34181ff6",
        "colab": {
          "base_uri": "https://localhost:8080/",
          "height": 1000
        }
      },
      "source": [
        "# for param in model.parameters():\n",
        "#     param.requires_grad = False\n",
        "\n",
        "num_ftrs = model.fc.in_features\n",
        "model.fc = nn.Sequential(\n",
        "    nn.Linear(num_ftrs, 256),\n",
        "    # nn.Linear(1280, 256),\n",
        "    nn.ReLU(),\n",
        "    nn.Linear(256,len(class_names))\n",
        ")\n",
        "# model.load_state_dict(torch.load(\"/content/drive/My Drive/Kaggle/COVID-ResNet18.pth\"))\n",
        "model.to(device)\n",
        "print(model)\n",
        "\n",
        "criterion = FocalLoss(gamma=2.0, alpha=1.0)\n",
        "optimizer = optim.Adam(model.parameters(), lr=2e-4)\n",
        "# optimizer = optim.SGD(model.parameters(), lr=1e-4, momentum=0.9)\n",
        "scheduler = optim.lr_scheduler.ReduceLROnPlateau(optimizer, factor=0.5, patience=2, min_lr=1e-5, verbose=True)"
      ],
      "execution_count": 0,
      "outputs": [
        {
          "output_type": "stream",
          "text": [
            "ResNet(\n",
            "  (conv1): Conv2d(3, 64, kernel_size=(7, 7), stride=(2, 2), padding=(3, 3), bias=False)\n",
            "  (bn1): BatchNorm2d(64, eps=1e-05, momentum=0.1, affine=True, track_running_stats=True)\n",
            "  (relu): ReLU(inplace=True)\n",
            "  (maxpool): MaxPool2d(kernel_size=3, stride=2, padding=1, dilation=1, ceil_mode=False)\n",
            "  (layer1): Sequential(\n",
            "    (0): Bottleneck(\n",
            "      (conv1): Conv2d(64, 128, kernel_size=(1, 1), stride=(1, 1), bias=False)\n",
            "      (bn1): BatchNorm2d(128, eps=1e-05, momentum=0.1, affine=True, track_running_stats=True)\n",
            "      (conv2): Conv2d(128, 128, kernel_size=(3, 3), stride=(1, 1), padding=(1, 1), groups=32, bias=False)\n",
            "      (bn2): BatchNorm2d(128, eps=1e-05, momentum=0.1, affine=True, track_running_stats=True)\n",
            "      (conv3): Conv2d(128, 256, kernel_size=(1, 1), stride=(1, 1), bias=False)\n",
            "      (bn3): BatchNorm2d(256, eps=1e-05, momentum=0.1, affine=True, track_running_stats=True)\n",
            "      (relu): ReLU(inplace=True)\n",
            "      (downsample): Sequential(\n",
            "        (0): Conv2d(64, 256, kernel_size=(1, 1), stride=(1, 1), bias=False)\n",
            "        (1): BatchNorm2d(256, eps=1e-05, momentum=0.1, affine=True, track_running_stats=True)\n",
            "      )\n",
            "    )\n",
            "    (1): Bottleneck(\n",
            "      (conv1): Conv2d(256, 128, kernel_size=(1, 1), stride=(1, 1), bias=False)\n",
            "      (bn1): BatchNorm2d(128, eps=1e-05, momentum=0.1, affine=True, track_running_stats=True)\n",
            "      (conv2): Conv2d(128, 128, kernel_size=(3, 3), stride=(1, 1), padding=(1, 1), groups=32, bias=False)\n",
            "      (bn2): BatchNorm2d(128, eps=1e-05, momentum=0.1, affine=True, track_running_stats=True)\n",
            "      (conv3): Conv2d(128, 256, kernel_size=(1, 1), stride=(1, 1), bias=False)\n",
            "      (bn3): BatchNorm2d(256, eps=1e-05, momentum=0.1, affine=True, track_running_stats=True)\n",
            "      (relu): ReLU(inplace=True)\n",
            "    )\n",
            "    (2): Bottleneck(\n",
            "      (conv1): Conv2d(256, 128, kernel_size=(1, 1), stride=(1, 1), bias=False)\n",
            "      (bn1): BatchNorm2d(128, eps=1e-05, momentum=0.1, affine=True, track_running_stats=True)\n",
            "      (conv2): Conv2d(128, 128, kernel_size=(3, 3), stride=(1, 1), padding=(1, 1), groups=32, bias=False)\n",
            "      (bn2): BatchNorm2d(128, eps=1e-05, momentum=0.1, affine=True, track_running_stats=True)\n",
            "      (conv3): Conv2d(128, 256, kernel_size=(1, 1), stride=(1, 1), bias=False)\n",
            "      (bn3): BatchNorm2d(256, eps=1e-05, momentum=0.1, affine=True, track_running_stats=True)\n",
            "      (relu): ReLU(inplace=True)\n",
            "    )\n",
            "  )\n",
            "  (layer2): Sequential(\n",
            "    (0): Bottleneck(\n",
            "      (conv1): Conv2d(256, 256, kernel_size=(1, 1), stride=(1, 1), bias=False)\n",
            "      (bn1): BatchNorm2d(256, eps=1e-05, momentum=0.1, affine=True, track_running_stats=True)\n",
            "      (conv2): Conv2d(256, 256, kernel_size=(3, 3), stride=(2, 2), padding=(1, 1), groups=32, bias=False)\n",
            "      (bn2): BatchNorm2d(256, eps=1e-05, momentum=0.1, affine=True, track_running_stats=True)\n",
            "      (conv3): Conv2d(256, 512, kernel_size=(1, 1), stride=(1, 1), bias=False)\n",
            "      (bn3): BatchNorm2d(512, eps=1e-05, momentum=0.1, affine=True, track_running_stats=True)\n",
            "      (relu): ReLU(inplace=True)\n",
            "      (downsample): Sequential(\n",
            "        (0): Conv2d(256, 512, kernel_size=(1, 1), stride=(2, 2), bias=False)\n",
            "        (1): BatchNorm2d(512, eps=1e-05, momentum=0.1, affine=True, track_running_stats=True)\n",
            "      )\n",
            "    )\n",
            "    (1): Bottleneck(\n",
            "      (conv1): Conv2d(512, 256, kernel_size=(1, 1), stride=(1, 1), bias=False)\n",
            "      (bn1): BatchNorm2d(256, eps=1e-05, momentum=0.1, affine=True, track_running_stats=True)\n",
            "      (conv2): Conv2d(256, 256, kernel_size=(3, 3), stride=(1, 1), padding=(1, 1), groups=32, bias=False)\n",
            "      (bn2): BatchNorm2d(256, eps=1e-05, momentum=0.1, affine=True, track_running_stats=True)\n",
            "      (conv3): Conv2d(256, 512, kernel_size=(1, 1), stride=(1, 1), bias=False)\n",
            "      (bn3): BatchNorm2d(512, eps=1e-05, momentum=0.1, affine=True, track_running_stats=True)\n",
            "      (relu): ReLU(inplace=True)\n",
            "    )\n",
            "    (2): Bottleneck(\n",
            "      (conv1): Conv2d(512, 256, kernel_size=(1, 1), stride=(1, 1), bias=False)\n",
            "      (bn1): BatchNorm2d(256, eps=1e-05, momentum=0.1, affine=True, track_running_stats=True)\n",
            "      (conv2): Conv2d(256, 256, kernel_size=(3, 3), stride=(1, 1), padding=(1, 1), groups=32, bias=False)\n",
            "      (bn2): BatchNorm2d(256, eps=1e-05, momentum=0.1, affine=True, track_running_stats=True)\n",
            "      (conv3): Conv2d(256, 512, kernel_size=(1, 1), stride=(1, 1), bias=False)\n",
            "      (bn3): BatchNorm2d(512, eps=1e-05, momentum=0.1, affine=True, track_running_stats=True)\n",
            "      (relu): ReLU(inplace=True)\n",
            "    )\n",
            "    (3): Bottleneck(\n",
            "      (conv1): Conv2d(512, 256, kernel_size=(1, 1), stride=(1, 1), bias=False)\n",
            "      (bn1): BatchNorm2d(256, eps=1e-05, momentum=0.1, affine=True, track_running_stats=True)\n",
            "      (conv2): Conv2d(256, 256, kernel_size=(3, 3), stride=(1, 1), padding=(1, 1), groups=32, bias=False)\n",
            "      (bn2): BatchNorm2d(256, eps=1e-05, momentum=0.1, affine=True, track_running_stats=True)\n",
            "      (conv3): Conv2d(256, 512, kernel_size=(1, 1), stride=(1, 1), bias=False)\n",
            "      (bn3): BatchNorm2d(512, eps=1e-05, momentum=0.1, affine=True, track_running_stats=True)\n",
            "      (relu): ReLU(inplace=True)\n",
            "    )\n",
            "  )\n",
            "  (layer3): Sequential(\n",
            "    (0): Bottleneck(\n",
            "      (conv1): Conv2d(512, 512, kernel_size=(1, 1), stride=(1, 1), bias=False)\n",
            "      (bn1): BatchNorm2d(512, eps=1e-05, momentum=0.1, affine=True, track_running_stats=True)\n",
            "      (conv2): Conv2d(512, 512, kernel_size=(3, 3), stride=(2, 2), padding=(1, 1), groups=32, bias=False)\n",
            "      (bn2): BatchNorm2d(512, eps=1e-05, momentum=0.1, affine=True, track_running_stats=True)\n",
            "      (conv3): Conv2d(512, 1024, kernel_size=(1, 1), stride=(1, 1), bias=False)\n",
            "      (bn3): BatchNorm2d(1024, eps=1e-05, momentum=0.1, affine=True, track_running_stats=True)\n",
            "      (relu): ReLU(inplace=True)\n",
            "      (downsample): Sequential(\n",
            "        (0): Conv2d(512, 1024, kernel_size=(1, 1), stride=(2, 2), bias=False)\n",
            "        (1): BatchNorm2d(1024, eps=1e-05, momentum=0.1, affine=True, track_running_stats=True)\n",
            "      )\n",
            "    )\n",
            "    (1): Bottleneck(\n",
            "      (conv1): Conv2d(1024, 512, kernel_size=(1, 1), stride=(1, 1), bias=False)\n",
            "      (bn1): BatchNorm2d(512, eps=1e-05, momentum=0.1, affine=True, track_running_stats=True)\n",
            "      (conv2): Conv2d(512, 512, kernel_size=(3, 3), stride=(1, 1), padding=(1, 1), groups=32, bias=False)\n",
            "      (bn2): BatchNorm2d(512, eps=1e-05, momentum=0.1, affine=True, track_running_stats=True)\n",
            "      (conv3): Conv2d(512, 1024, kernel_size=(1, 1), stride=(1, 1), bias=False)\n",
            "      (bn3): BatchNorm2d(1024, eps=1e-05, momentum=0.1, affine=True, track_running_stats=True)\n",
            "      (relu): ReLU(inplace=True)\n",
            "    )\n",
            "    (2): Bottleneck(\n",
            "      (conv1): Conv2d(1024, 512, kernel_size=(1, 1), stride=(1, 1), bias=False)\n",
            "      (bn1): BatchNorm2d(512, eps=1e-05, momentum=0.1, affine=True, track_running_stats=True)\n",
            "      (conv2): Conv2d(512, 512, kernel_size=(3, 3), stride=(1, 1), padding=(1, 1), groups=32, bias=False)\n",
            "      (bn2): BatchNorm2d(512, eps=1e-05, momentum=0.1, affine=True, track_running_stats=True)\n",
            "      (conv3): Conv2d(512, 1024, kernel_size=(1, 1), stride=(1, 1), bias=False)\n",
            "      (bn3): BatchNorm2d(1024, eps=1e-05, momentum=0.1, affine=True, track_running_stats=True)\n",
            "      (relu): ReLU(inplace=True)\n",
            "    )\n",
            "    (3): Bottleneck(\n",
            "      (conv1): Conv2d(1024, 512, kernel_size=(1, 1), stride=(1, 1), bias=False)\n",
            "      (bn1): BatchNorm2d(512, eps=1e-05, momentum=0.1, affine=True, track_running_stats=True)\n",
            "      (conv2): Conv2d(512, 512, kernel_size=(3, 3), stride=(1, 1), padding=(1, 1), groups=32, bias=False)\n",
            "      (bn2): BatchNorm2d(512, eps=1e-05, momentum=0.1, affine=True, track_running_stats=True)\n",
            "      (conv3): Conv2d(512, 1024, kernel_size=(1, 1), stride=(1, 1), bias=False)\n",
            "      (bn3): BatchNorm2d(1024, eps=1e-05, momentum=0.1, affine=True, track_running_stats=True)\n",
            "      (relu): ReLU(inplace=True)\n",
            "    )\n",
            "    (4): Bottleneck(\n",
            "      (conv1): Conv2d(1024, 512, kernel_size=(1, 1), stride=(1, 1), bias=False)\n",
            "      (bn1): BatchNorm2d(512, eps=1e-05, momentum=0.1, affine=True, track_running_stats=True)\n",
            "      (conv2): Conv2d(512, 512, kernel_size=(3, 3), stride=(1, 1), padding=(1, 1), groups=32, bias=False)\n",
            "      (bn2): BatchNorm2d(512, eps=1e-05, momentum=0.1, affine=True, track_running_stats=True)\n",
            "      (conv3): Conv2d(512, 1024, kernel_size=(1, 1), stride=(1, 1), bias=False)\n",
            "      (bn3): BatchNorm2d(1024, eps=1e-05, momentum=0.1, affine=True, track_running_stats=True)\n",
            "      (relu): ReLU(inplace=True)\n",
            "    )\n",
            "    (5): Bottleneck(\n",
            "      (conv1): Conv2d(1024, 512, kernel_size=(1, 1), stride=(1, 1), bias=False)\n",
            "      (bn1): BatchNorm2d(512, eps=1e-05, momentum=0.1, affine=True, track_running_stats=True)\n",
            "      (conv2): Conv2d(512, 512, kernel_size=(3, 3), stride=(1, 1), padding=(1, 1), groups=32, bias=False)\n",
            "      (bn2): BatchNorm2d(512, eps=1e-05, momentum=0.1, affine=True, track_running_stats=True)\n",
            "      (conv3): Conv2d(512, 1024, kernel_size=(1, 1), stride=(1, 1), bias=False)\n",
            "      (bn3): BatchNorm2d(1024, eps=1e-05, momentum=0.1, affine=True, track_running_stats=True)\n",
            "      (relu): ReLU(inplace=True)\n",
            "    )\n",
            "  )\n",
            "  (layer4): Sequential(\n",
            "    (0): Bottleneck(\n",
            "      (conv1): Conv2d(1024, 1024, kernel_size=(1, 1), stride=(1, 1), bias=False)\n",
            "      (bn1): BatchNorm2d(1024, eps=1e-05, momentum=0.1, affine=True, track_running_stats=True)\n",
            "      (conv2): Conv2d(1024, 1024, kernel_size=(3, 3), stride=(2, 2), padding=(1, 1), groups=32, bias=False)\n",
            "      (bn2): BatchNorm2d(1024, eps=1e-05, momentum=0.1, affine=True, track_running_stats=True)\n",
            "      (conv3): Conv2d(1024, 2048, kernel_size=(1, 1), stride=(1, 1), bias=False)\n",
            "      (bn3): BatchNorm2d(2048, eps=1e-05, momentum=0.1, affine=True, track_running_stats=True)\n",
            "      (relu): ReLU(inplace=True)\n",
            "      (downsample): Sequential(\n",
            "        (0): Conv2d(1024, 2048, kernel_size=(1, 1), stride=(2, 2), bias=False)\n",
            "        (1): BatchNorm2d(2048, eps=1e-05, momentum=0.1, affine=True, track_running_stats=True)\n",
            "      )\n",
            "    )\n",
            "    (1): Bottleneck(\n",
            "      (conv1): Conv2d(2048, 1024, kernel_size=(1, 1), stride=(1, 1), bias=False)\n",
            "      (bn1): BatchNorm2d(1024, eps=1e-05, momentum=0.1, affine=True, track_running_stats=True)\n",
            "      (conv2): Conv2d(1024, 1024, kernel_size=(3, 3), stride=(1, 1), padding=(1, 1), groups=32, bias=False)\n",
            "      (bn2): BatchNorm2d(1024, eps=1e-05, momentum=0.1, affine=True, track_running_stats=True)\n",
            "      (conv3): Conv2d(1024, 2048, kernel_size=(1, 1), stride=(1, 1), bias=False)\n",
            "      (bn3): BatchNorm2d(2048, eps=1e-05, momentum=0.1, affine=True, track_running_stats=True)\n",
            "      (relu): ReLU(inplace=True)\n",
            "    )\n",
            "    (2): Bottleneck(\n",
            "      (conv1): Conv2d(2048, 1024, kernel_size=(1, 1), stride=(1, 1), bias=False)\n",
            "      (bn1): BatchNorm2d(1024, eps=1e-05, momentum=0.1, affine=True, track_running_stats=True)\n",
            "      (conv2): Conv2d(1024, 1024, kernel_size=(3, 3), stride=(1, 1), padding=(1, 1), groups=32, bias=False)\n",
            "      (bn2): BatchNorm2d(1024, eps=1e-05, momentum=0.1, affine=True, track_running_stats=True)\n",
            "      (conv3): Conv2d(1024, 2048, kernel_size=(1, 1), stride=(1, 1), bias=False)\n",
            "      (bn3): BatchNorm2d(2048, eps=1e-05, momentum=0.1, affine=True, track_running_stats=True)\n",
            "      (relu): ReLU(inplace=True)\n",
            "    )\n",
            "  )\n",
            "  (avgpool): AdaptiveAvgPool2d(output_size=(1, 1))\n",
            "  (fc): Sequential(\n",
            "    (0): Linear(in_features=2048, out_features=256, bias=True)\n",
            "    (1): ReLU()\n",
            "    (2): Linear(in_features=256, out_features=3, bias=True)\n",
            "  )\n",
            ")\n"
          ],
          "name": "stdout"
        }
      ]
    },
    {
      "cell_type": "markdown",
      "metadata": {
        "id": "MioYMTlb4ghO",
        "colab_type": "text"
      },
      "source": [
        "## Train Model"
      ]
    },
    {
      "cell_type": "code",
      "metadata": {
        "id": "oLK-h_SfXObE",
        "colab_type": "code",
        "outputId": "cfe827d3-9676-4659-dcc3-99b7dfdccb17",
        "colab": {
          "base_uri": "https://localhost:8080/",
          "height": 1000
        }
      },
      "source": [
        "EPOCHS = 15\n",
        "nn_output = []\n",
        "interval = 1000\n",
        "best_model_wts = copy.deepcopy(model.state_dict())\n",
        "best_acc = 0.0\n",
        "\n",
        "def get_num_correct(outputs, labels):\n",
        "    _, preds  = torch.max(outputs, 1)\n",
        "    return torch.sum(preds == labels.data)\n",
        "\n",
        "for epoch in range(EPOCHS):\n",
        "    epoch_loss = 0\n",
        "    epoch_correct = 0\n",
        "    model.train()\n",
        "    \n",
        "    for batch_idx, data in enumerate(train_image_dataloader):\n",
        "        \n",
        "        X = data[0].to(device) # X is the batch of features\n",
        "        y = data[1].to(device) # y is the batch of targets.\n",
        "        \n",
        "        optimizer.zero_grad()  # sets gradients to 0 before loss calc. You will do this likely every step.\n",
        "        output = model(X)  # pass in the reshaped batch (recall they are 224x224)\n",
        "        tloss = criterion(output, y)  # calc and grab the loss value\n",
        "        tloss.backward()  # apply this loss backwards thru the network's parameters\n",
        "        optimizer.step()  # attempt to optimize weights to account for loss/gradients \n",
        "        \n",
        "        epoch_loss += tloss.item()\n",
        "        epoch_correct += get_num_correct(output, y)\n",
        "\n",
        "        num_samples = batch_idx * BATCH_SIZE + 1\n",
        "        \n",
        "        if num_samples % interval == 1:\n",
        "          print(\"Epoch:{:2d} Sample:{:5d}/{:5d}\".format(epoch, num_samples,len(train_image_dataloader) * BATCH_SIZE))\n",
        "\n",
        "    \n",
        "    # Evaluation with the validation set\n",
        "    model.eval() # eval mode\n",
        "    val_loss = 0\n",
        "    val_correct = 0\n",
        "    \n",
        "    with torch.no_grad():\n",
        "        # First Validation Set\n",
        "        for inputs,labels in val_image_dataloader:\n",
        "            X = inputs.to(device)\n",
        "            y = labels.to(device)\n",
        "            \n",
        "            preds = model(X) # get predictions\n",
        "            vloss = criterion(preds, y) # calculate the loss\n",
        "            \n",
        "            val_correct += get_num_correct(preds, y)\n",
        "            val_loss += vloss.item()\n",
        "        \n",
        "    tmp_nn_output = [epoch + 1,EPOCHS,\n",
        "                     epoch_loss/dataset_sizes['train'],epoch_correct.double()/dataset_sizes['train']*100,\n",
        "                     val_loss/dataset_sizes['val'], val_correct.double()/dataset_sizes['val']*100, \n",
        "                    ]\n",
        "    \n",
        "    # scheduler step\n",
        "    scheduler.step(val_loss/dataset_sizes['val'])\n",
        "\n",
        "    test_acc = val_correct.double()/dataset_sizes['val']*100\n",
        "\n",
        "    if test_acc >= best_acc:\n",
        "      best_acc = test_acc\n",
        "      best_model_wts = copy.deepcopy(model.state_dict())\n",
        "\n",
        "    nn_output.append(tmp_nn_output)\n",
        "    \n",
        "    # Print the loss and accuracy for the validation set\n",
        "    print('Epoch[{}/{}] Train loss: {:.6f} acc: {:.3f} | Valid loss: {:.6f} acc: {:.3f}'\n",
        "        .format(*tmp_nn_output))"
      ],
      "execution_count": 0,
      "outputs": [
        {
          "output_type": "stream",
          "text": [
            "Epoch: 0 Sample:    1/16608\n",
            "Epoch: 0 Sample: 1001/16608\n",
            "Epoch: 0 Sample: 2001/16608\n",
            "Epoch: 0 Sample: 3001/16608\n",
            "Epoch: 0 Sample: 4001/16608\n",
            "Epoch: 0 Sample: 5001/16608\n",
            "Epoch: 0 Sample: 6001/16608\n",
            "Epoch: 0 Sample: 7001/16608\n",
            "Epoch: 0 Sample: 8001/16608\n",
            "Epoch: 0 Sample: 9001/16608\n",
            "Epoch: 0 Sample:10001/16608\n",
            "Epoch: 0 Sample:11001/16608\n",
            "Epoch: 0 Sample:12001/16608\n",
            "Epoch: 0 Sample:13001/16608\n",
            "Epoch: 0 Sample:14001/16608\n",
            "Epoch: 0 Sample:15001/16608\n",
            "Epoch: 0 Sample:16001/16608\n",
            "Epoch[1/15] Train loss: 0.116473 acc: 85.891 | Valid loss: 0.061698 acc: 92.985\n",
            "Epoch: 1 Sample:    1/16608\n",
            "Epoch: 1 Sample: 1001/16608\n",
            "Epoch: 1 Sample: 2001/16608\n",
            "Epoch: 1 Sample: 3001/16608\n",
            "Epoch: 1 Sample: 4001/16608\n",
            "Epoch: 1 Sample: 5001/16608\n",
            "Epoch: 1 Sample: 6001/16608\n",
            "Epoch: 1 Sample: 7001/16608\n",
            "Epoch: 1 Sample: 8001/16608\n",
            "Epoch: 1 Sample: 9001/16608\n",
            "Epoch: 1 Sample:10001/16608\n",
            "Epoch: 1 Sample:11001/16608\n",
            "Epoch: 1 Sample:12001/16608\n",
            "Epoch: 1 Sample:13001/16608\n",
            "Epoch: 1 Sample:14001/16608\n",
            "Epoch: 1 Sample:15001/16608\n",
            "Epoch: 1 Sample:16001/16608\n",
            "Epoch[2/15] Train loss: 0.081872 acc: 90.889 | Valid loss: 0.062571 acc: 93.190\n",
            "Epoch: 2 Sample:    1/16608\n",
            "Epoch: 2 Sample: 1001/16608\n",
            "Epoch: 2 Sample: 2001/16608\n",
            "Epoch: 2 Sample: 3001/16608\n",
            "Epoch: 2 Sample: 4001/16608\n",
            "Epoch: 2 Sample: 5001/16608\n",
            "Epoch: 2 Sample: 6001/16608\n",
            "Epoch: 2 Sample: 7001/16608\n",
            "Epoch: 2 Sample: 8001/16608\n",
            "Epoch: 2 Sample: 9001/16608\n",
            "Epoch: 2 Sample:10001/16608\n",
            "Epoch: 2 Sample:11001/16608\n",
            "Epoch: 2 Sample:12001/16608\n",
            "Epoch: 2 Sample:13001/16608\n",
            "Epoch: 2 Sample:14001/16608\n",
            "Epoch: 2 Sample:15001/16608\n",
            "Epoch: 2 Sample:16001/16608\n",
            "Epoch[3/15] Train loss: 0.069302 acc: 92.160 | Valid loss: 0.051825 acc: 93.907\n",
            "Epoch: 3 Sample:    1/16608\n",
            "Epoch: 3 Sample: 1001/16608\n",
            "Epoch: 3 Sample: 2001/16608\n",
            "Epoch: 3 Sample: 3001/16608\n",
            "Epoch: 3 Sample: 4001/16608\n",
            "Epoch: 3 Sample: 5001/16608\n",
            "Epoch: 3 Sample: 6001/16608\n",
            "Epoch: 3 Sample: 7001/16608\n",
            "Epoch: 3 Sample: 8001/16608\n",
            "Epoch: 3 Sample: 9001/16608\n",
            "Epoch: 3 Sample:10001/16608\n",
            "Epoch: 3 Sample:11001/16608\n",
            "Epoch: 3 Sample:12001/16608\n",
            "Epoch: 3 Sample:13001/16608\n",
            "Epoch: 3 Sample:14001/16608\n",
            "Epoch: 3 Sample:15001/16608\n",
            "Epoch: 3 Sample:16001/16608\n",
            "Epoch[4/15] Train loss: 0.060339 acc: 93.039 | Valid loss: 0.046468 acc: 94.419\n",
            "Epoch: 4 Sample:    1/16608\n",
            "Epoch: 4 Sample: 1001/16608\n",
            "Epoch: 4 Sample: 2001/16608\n",
            "Epoch: 4 Sample: 3001/16608\n",
            "Epoch: 4 Sample: 4001/16608\n",
            "Epoch: 4 Sample: 5001/16608\n",
            "Epoch: 4 Sample: 6001/16608\n",
            "Epoch: 4 Sample: 7001/16608\n",
            "Epoch: 4 Sample: 8001/16608\n",
            "Epoch: 4 Sample: 9001/16608\n",
            "Epoch: 4 Sample:10001/16608\n",
            "Epoch: 4 Sample:11001/16608\n",
            "Epoch: 4 Sample:12001/16608\n",
            "Epoch: 4 Sample:13001/16608\n",
            "Epoch: 4 Sample:14001/16608\n",
            "Epoch: 4 Sample:15001/16608\n",
            "Epoch: 4 Sample:16001/16608\n",
            "Epoch[5/15] Train loss: 0.050747 acc: 93.990 | Valid loss: 0.051114 acc: 93.702\n",
            "Epoch: 5 Sample:    1/16608\n",
            "Epoch: 5 Sample: 1001/16608\n",
            "Epoch: 5 Sample: 2001/16608\n",
            "Epoch: 5 Sample: 3001/16608\n",
            "Epoch: 5 Sample: 4001/16608\n",
            "Epoch: 5 Sample: 5001/16608\n",
            "Epoch: 5 Sample: 6001/16608\n",
            "Epoch: 5 Sample: 7001/16608\n",
            "Epoch: 5 Sample: 8001/16608\n",
            "Epoch: 5 Sample: 9001/16608\n",
            "Epoch: 5 Sample:10001/16608\n",
            "Epoch: 5 Sample:11001/16608\n",
            "Epoch: 5 Sample:12001/16608\n",
            "Epoch: 5 Sample:13001/16608\n",
            "Epoch: 5 Sample:14001/16608\n",
            "Epoch: 5 Sample:15001/16608\n",
            "Epoch: 5 Sample:16001/16608\n",
            "Epoch[6/15] Train loss: 0.044314 acc: 94.713 | Valid loss: 0.049278 acc: 94.060\n",
            "Epoch: 6 Sample:    1/16608\n",
            "Epoch: 6 Sample: 1001/16608\n",
            "Epoch: 6 Sample: 2001/16608\n",
            "Epoch: 6 Sample: 3001/16608\n",
            "Epoch: 6 Sample: 4001/16608\n",
            "Epoch: 6 Sample: 5001/16608\n",
            "Epoch: 6 Sample: 6001/16608\n",
            "Epoch: 6 Sample: 7001/16608\n",
            "Epoch: 6 Sample: 8001/16608\n",
            "Epoch: 6 Sample: 9001/16608\n",
            "Epoch: 6 Sample:10001/16608\n",
            "Epoch: 6 Sample:11001/16608\n",
            "Epoch: 6 Sample:12001/16608\n",
            "Epoch: 6 Sample:13001/16608\n",
            "Epoch: 6 Sample:14001/16608\n",
            "Epoch: 6 Sample:15001/16608\n",
            "Epoch: 6 Sample:16001/16608\n",
            "Epoch     7: reducing learning rate of group 0 to 1.0000e-04.\n",
            "Epoch[7/15] Train loss: 0.042871 acc: 95.080 | Valid loss: 0.055096 acc: 93.958\n",
            "Epoch: 7 Sample:    1/16608\n",
            "Epoch: 7 Sample: 1001/16608\n",
            "Epoch: 7 Sample: 2001/16608\n",
            "Epoch: 7 Sample: 3001/16608\n",
            "Epoch: 7 Sample: 4001/16608\n",
            "Epoch: 7 Sample: 5001/16608\n",
            "Epoch: 7 Sample: 6001/16608\n",
            "Epoch: 7 Sample: 7001/16608\n",
            "Epoch: 7 Sample: 8001/16608\n",
            "Epoch: 7 Sample: 9001/16608\n",
            "Epoch: 7 Sample:10001/16608\n",
            "Epoch: 7 Sample:11001/16608\n",
            "Epoch: 7 Sample:12001/16608\n",
            "Epoch: 7 Sample:13001/16608\n",
            "Epoch: 7 Sample:14001/16608\n",
            "Epoch: 7 Sample:15001/16608\n",
            "Epoch: 7 Sample:16001/16608\n",
            "Epoch[8/15] Train loss: 0.025363 acc: 96.935 | Valid loss: 0.047077 acc: 94.982\n",
            "Epoch: 8 Sample:    1/16608\n",
            "Epoch: 8 Sample: 1001/16608\n",
            "Epoch: 8 Sample: 2001/16608\n",
            "Epoch: 8 Sample: 3001/16608\n",
            "Epoch: 8 Sample: 4001/16608\n",
            "Epoch: 8 Sample: 5001/16608\n",
            "Epoch: 8 Sample: 6001/16608\n",
            "Epoch: 8 Sample: 7001/16608\n",
            "Epoch: 8 Sample: 8001/16608\n",
            "Epoch: 8 Sample: 9001/16608\n",
            "Epoch: 8 Sample:10001/16608\n",
            "Epoch: 8 Sample:11001/16608\n",
            "Epoch: 8 Sample:12001/16608\n",
            "Epoch: 8 Sample:13001/16608\n",
            "Epoch: 8 Sample:14001/16608\n",
            "Epoch: 8 Sample:15001/16608\n",
            "Epoch: 8 Sample:16001/16608\n",
            "Epoch[9/15] Train loss: 0.017754 acc: 97.856 | Valid loss: 0.051507 acc: 95.033\n",
            "Epoch: 9 Sample:    1/16608\n",
            "Epoch: 9 Sample: 1001/16608\n",
            "Epoch: 9 Sample: 2001/16608\n",
            "Epoch: 9 Sample: 3001/16608\n",
            "Epoch: 9 Sample: 4001/16608\n",
            "Epoch: 9 Sample: 5001/16608\n",
            "Epoch: 9 Sample: 6001/16608\n",
            "Epoch: 9 Sample: 7001/16608\n",
            "Epoch: 9 Sample: 8001/16608\n",
            "Epoch: 9 Sample: 9001/16608\n",
            "Epoch: 9 Sample:10001/16608\n",
            "Epoch: 9 Sample:11001/16608\n",
            "Epoch: 9 Sample:12001/16608\n",
            "Epoch: 9 Sample:13001/16608\n",
            "Epoch: 9 Sample:14001/16608\n",
            "Epoch: 9 Sample:15001/16608\n",
            "Epoch: 9 Sample:16001/16608\n",
            "Epoch    10: reducing learning rate of group 0 to 5.0000e-05.\n",
            "Epoch[10/15] Train loss: 0.013082 acc: 98.440 | Valid loss: 0.054477 acc: 94.368\n",
            "Epoch:10 Sample:    1/16608\n",
            "Epoch:10 Sample: 1001/16608\n",
            "Epoch:10 Sample: 2001/16608\n",
            "Epoch:10 Sample: 3001/16608\n",
            "Epoch:10 Sample: 4001/16608\n",
            "Epoch:10 Sample: 5001/16608\n",
            "Epoch:10 Sample: 6001/16608\n",
            "Epoch:10 Sample: 7001/16608\n",
            "Epoch:10 Sample: 8001/16608\n",
            "Epoch:10 Sample: 9001/16608\n",
            "Epoch:10 Sample:10001/16608\n",
            "Epoch:10 Sample:11001/16608\n",
            "Epoch:10 Sample:12001/16608\n",
            "Epoch:10 Sample:13001/16608\n",
            "Epoch:10 Sample:14001/16608\n",
            "Epoch:10 Sample:15001/16608\n",
            "Epoch:10 Sample:16001/16608\n",
            "Epoch[11/15] Train loss: 0.005639 acc: 99.386 | Valid loss: 0.075949 acc: 94.470\n",
            "Epoch:11 Sample:    1/16608\n",
            "Epoch:11 Sample: 1001/16608\n",
            "Epoch:11 Sample: 2001/16608\n",
            "Epoch:11 Sample: 3001/16608\n",
            "Epoch:11 Sample: 4001/16608\n",
            "Epoch:11 Sample: 5001/16608\n",
            "Epoch:11 Sample: 6001/16608\n",
            "Epoch:11 Sample: 7001/16608\n",
            "Epoch:11 Sample: 8001/16608\n",
            "Epoch:11 Sample: 9001/16608\n",
            "Epoch:11 Sample:10001/16608\n",
            "Epoch:11 Sample:11001/16608\n",
            "Epoch:11 Sample:12001/16608\n",
            "Epoch:11 Sample:13001/16608\n",
            "Epoch:11 Sample:14001/16608\n",
            "Epoch:11 Sample:15001/16608\n",
            "Epoch:11 Sample:16001/16608\n",
            "Epoch[12/15] Train loss: 0.002891 acc: 99.615 | Valid loss: 0.102676 acc: 94.163\n",
            "Epoch:12 Sample:    1/16608\n",
            "Epoch:12 Sample: 1001/16608\n",
            "Epoch:12 Sample: 2001/16608\n",
            "Epoch:12 Sample: 3001/16608\n",
            "Epoch:12 Sample: 4001/16608\n",
            "Epoch:12 Sample: 5001/16608\n",
            "Epoch:12 Sample: 6001/16608\n",
            "Epoch:12 Sample: 7001/16608\n",
            "Epoch:12 Sample: 8001/16608\n",
            "Epoch:12 Sample: 9001/16608\n",
            "Epoch:12 Sample:10001/16608\n",
            "Epoch:12 Sample:11001/16608\n",
            "Epoch:12 Sample:12001/16608\n",
            "Epoch:12 Sample:13001/16608\n",
            "Epoch:12 Sample:14001/16608\n",
            "Epoch:12 Sample:15001/16608\n",
            "Epoch:12 Sample:16001/16608\n",
            "Epoch    13: reducing learning rate of group 0 to 2.5000e-05.\n",
            "Epoch[13/15] Train loss: 0.002309 acc: 99.669 | Valid loss: 0.106210 acc: 95.033\n",
            "Epoch:13 Sample:    1/16608\n",
            "Epoch:13 Sample: 1001/16608\n",
            "Epoch:13 Sample: 2001/16608\n",
            "Epoch:13 Sample: 3001/16608\n",
            "Epoch:13 Sample: 4001/16608\n",
            "Epoch:13 Sample: 5001/16608\n",
            "Epoch:13 Sample: 6001/16608\n",
            "Epoch:13 Sample: 7001/16608\n",
            "Epoch:13 Sample: 8001/16608\n",
            "Epoch:13 Sample: 9001/16608\n",
            "Epoch:13 Sample:10001/16608\n",
            "Epoch:13 Sample:11001/16608\n",
            "Epoch:13 Sample:12001/16608\n",
            "Epoch:13 Sample:13001/16608\n",
            "Epoch:13 Sample:14001/16608\n",
            "Epoch:13 Sample:15001/16608\n",
            "Epoch:13 Sample:16001/16608\n",
            "Epoch[14/15] Train loss: 0.001389 acc: 99.843 | Valid loss: 0.109535 acc: 94.931\n",
            "Epoch:14 Sample:    1/16608\n",
            "Epoch:14 Sample: 1001/16608\n",
            "Epoch:14 Sample: 2001/16608\n",
            "Epoch:14 Sample: 3001/16608\n",
            "Epoch:14 Sample: 4001/16608\n",
            "Epoch:14 Sample: 5001/16608\n",
            "Epoch:14 Sample: 6001/16608\n",
            "Epoch:14 Sample: 7001/16608\n",
            "Epoch:14 Sample: 8001/16608\n",
            "Epoch:14 Sample: 9001/16608\n",
            "Epoch:14 Sample:10001/16608\n",
            "Epoch:14 Sample:11001/16608\n",
            "Epoch:14 Sample:12001/16608\n",
            "Epoch:14 Sample:13001/16608\n",
            "Epoch:14 Sample:14001/16608\n",
            "Epoch:14 Sample:15001/16608\n",
            "Epoch:14 Sample:16001/16608\n",
            "Epoch[15/15] Train loss: 0.001069 acc: 99.910 | Valid loss: 0.119106 acc: 95.289\n"
          ],
          "name": "stdout"
        }
      ]
    },
    {
      "cell_type": "markdown",
      "metadata": {
        "id": "SWZKNaREo1Vu",
        "colab_type": "text"
      },
      "source": [
        "## Save Best Model"
      ]
    },
    {
      "cell_type": "code",
      "metadata": {
        "id": "pr52DSUYYbwa",
        "colab_type": "code",
        "colab": {}
      },
      "source": [
        "model.load_state_dict(best_model_wts)\n",
        "torch.save(model.state_dict(),\"/content/drive/My Drive/Kaggle/COVID-ResNext50_32x4d.pth\")"
      ],
      "execution_count": 0,
      "outputs": []
    },
    {
      "cell_type": "markdown",
      "metadata": {
        "id": "wCY4Oni1TBt5",
        "colab_type": "text"
      },
      "source": [
        "## Validate Model"
      ]
    },
    {
      "cell_type": "code",
      "metadata": {
        "id": "t6OplpZ7CKrC",
        "colab_type": "code",
        "outputId": "f9d5eaa0-bb6e-4f4b-e1b0-678382b76dc8",
        "colab": {
          "base_uri": "https://localhost:8080/",
          "height": 35
        }
      },
      "source": [
        "model.eval()\n",
        "test_correct = 0\n",
        "test_loss = 0\n",
        "\n",
        "with torch.no_grad():\n",
        "# Test Set.. \n",
        "  for inputs,labels in val_image_dataloader:\n",
        "    X = inputs.to(device)\n",
        "    y = labels.to(device) # size => (3)\n",
        "            \n",
        "    preds = model(X) # get predictions..size=> (10,3)\n",
        "    tstloss = criterion(preds, y) # calculate the loss\n",
        "            \n",
        "    test_correct += get_num_correct(preds, y)\n",
        "    test_loss += tstloss.item()\n",
        "\n",
        "print(\"Test Acc: {:.3f}\".format(test_correct.double()/dataset_sizes['val']*100))"
      ],
      "execution_count": 0,
      "outputs": [
        {
          "output_type": "stream",
          "text": [
            "Test Acc: 95.289\n"
          ],
          "name": "stdout"
        }
      ]
    },
    {
      "cell_type": "code",
      "metadata": {
        "id": "UGSStytqMRAe",
        "colab_type": "code",
        "outputId": "fc27c490-0429-458d-b868-e6b49b8f9cc3",
        "colab": {
          "base_uri": "https://localhost:8080/",
          "height": 206
        }
      },
      "source": [
        "import pandas as pd\n",
        "\n",
        "pd_results = pd.DataFrame(nn_output,\n",
        "    columns = ['epoch','total_epochs','train_loss','train_acc','valid_loss','valid_acc'])\n",
        "                         \n",
        "pd_results.head()"
      ],
      "execution_count": 0,
      "outputs": [
        {
          "output_type": "execute_result",
          "data": {
            "text/html": [
              "<div>\n",
              "<style scoped>\n",
              "    .dataframe tbody tr th:only-of-type {\n",
              "        vertical-align: middle;\n",
              "    }\n",
              "\n",
              "    .dataframe tbody tr th {\n",
              "        vertical-align: top;\n",
              "    }\n",
              "\n",
              "    .dataframe thead th {\n",
              "        text-align: right;\n",
              "    }\n",
              "</style>\n",
              "<table border=\"1\" class=\"dataframe\">\n",
              "  <thead>\n",
              "    <tr style=\"text-align: right;\">\n",
              "      <th></th>\n",
              "      <th>epoch</th>\n",
              "      <th>total_epochs</th>\n",
              "      <th>train_loss</th>\n",
              "      <th>train_acc</th>\n",
              "      <th>valid_loss</th>\n",
              "      <th>valid_acc</th>\n",
              "    </tr>\n",
              "  </thead>\n",
              "  <tbody>\n",
              "    <tr>\n",
              "      <th>0</th>\n",
              "      <td>1</td>\n",
              "      <td>15</td>\n",
              "      <td>0.116473</td>\n",
              "      <td>tensor(85.8915, device='cuda:0', dtype=torch.f...</td>\n",
              "      <td>0.061698</td>\n",
              "      <td>tensor(92.9852, device='cuda:0', dtype=torch.f...</td>\n",
              "    </tr>\n",
              "    <tr>\n",
              "      <th>1</th>\n",
              "      <td>2</td>\n",
              "      <td>15</td>\n",
              "      <td>0.081872</td>\n",
              "      <td>tensor(90.8894, device='cuda:0', dtype=torch.f...</td>\n",
              "      <td>0.062571</td>\n",
              "      <td>tensor(93.1900, device='cuda:0', dtype=torch.f...</td>\n",
              "    </tr>\n",
              "    <tr>\n",
              "      <th>2</th>\n",
              "      <td>3</td>\n",
              "      <td>15</td>\n",
              "      <td>0.069302</td>\n",
              "      <td>tensor(92.1599, device='cuda:0', dtype=torch.f...</td>\n",
              "      <td>0.051825</td>\n",
              "      <td>tensor(93.9068, device='cuda:0', dtype=torch.f...</td>\n",
              "    </tr>\n",
              "    <tr>\n",
              "      <th>3</th>\n",
              "      <td>4</td>\n",
              "      <td>15</td>\n",
              "      <td>0.060339</td>\n",
              "      <td>tensor(93.0391, device='cuda:0', dtype=torch.f...</td>\n",
              "      <td>0.046468</td>\n",
              "      <td>tensor(94.4188, device='cuda:0', dtype=torch.f...</td>\n",
              "    </tr>\n",
              "    <tr>\n",
              "      <th>4</th>\n",
              "      <td>5</td>\n",
              "      <td>15</td>\n",
              "      <td>0.050747</td>\n",
              "      <td>tensor(93.9905, device='cuda:0', dtype=torch.f...</td>\n",
              "      <td>0.051114</td>\n",
              "      <td>tensor(93.7020, device='cuda:0', dtype=torch.f...</td>\n",
              "    </tr>\n",
              "  </tbody>\n",
              "</table>\n",
              "</div>"
            ],
            "text/plain": [
              "   epoch  ...                                          valid_acc\n",
              "0      1  ...  tensor(92.9852, device='cuda:0', dtype=torch.f...\n",
              "1      2  ...  tensor(93.1900, device='cuda:0', dtype=torch.f...\n",
              "2      3  ...  tensor(93.9068, device='cuda:0', dtype=torch.f...\n",
              "3      4  ...  tensor(94.4188, device='cuda:0', dtype=torch.f...\n",
              "4      5  ...  tensor(93.7020, device='cuda:0', dtype=torch.f...\n",
              "\n",
              "[5 rows x 6 columns]"
            ]
          },
          "metadata": {
            "tags": []
          },
          "execution_count": 24
        }
      ]
    },
    {
      "cell_type": "code",
      "metadata": {
        "id": "7zBZKnqeKf2R",
        "colab_type": "code",
        "outputId": "a433ec08-8769-4117-a4aa-63f7c62c3ea8",
        "colab": {
          "base_uri": "https://localhost:8080/",
          "height": 283
        }
      },
      "source": [
        "%matplotlib inline\n",
        "fig, axes = plt.subplots(nrows=1, ncols=2, figsize=(12, 4))\n",
        "axes[0].plot(pd_results['epoch'],pd_results['valid_loss'], label='validation_loss')\n",
        "axes[0].plot(pd_results['epoch'],pd_results['train_loss'], label='train_loss')\n",
        "# axes[0].plot(pd_results['epoch'],pd_results['test_loss'], label='test_loss')\n",
        "axes[0].legend()\n",
        "\n",
        "axes[1].plot(pd_results['epoch'],pd_results['valid_acc'], label='validation_acc')\n",
        "axes[1].plot(pd_results['epoch'],pd_results['train_acc'], label='train_acc')\n",
        "# axes[1].plot(pd_results['epoch'],pd_results['test_acc'], label='test_acc')\n",
        "axes[1].legend()"
      ],
      "execution_count": 0,
      "outputs": [
        {
          "output_type": "execute_result",
          "data": {
            "text/plain": [
              "<matplotlib.legend.Legend at 0x7f8a501642b0>"
            ]
          },
          "metadata": {
            "tags": []
          },
          "execution_count": 25
        },
        {
          "output_type": "display_data",
          "data": {
            "image/png": "[encoded data removed]",
            "text/plain": [
              "<Figure size 864x288 with 2 Axes>"
            ]
          },
          "metadata": {
            "tags": [],
            "needs_background": "light"
          }
        }
      ]
    },
    {
      "cell_type": "markdown",
      "metadata": {
        "id": "9u16Dcu7TGZi",
        "colab_type": "text"
      },
      "source": [
        "## Confusion Matrix"
      ]
    },
    {
      "cell_type": "code",
      "metadata": {
        "id": "eGZnSVqKTJjY",
        "colab_type": "code",
        "outputId": "c519cc60-18cb-4b3a-9eaf-49aef524a9d8",
        "colab": {
          "base_uri": "https://localhost:8080/",
          "height": 90
        }
      },
      "source": [
        "model.eval()\n",
        "test_correct = 0\n",
        "test_loss = 0\n",
        "\n",
        "confusion_matrix = torch.zeros(len(class_names),len(class_names))\n",
        "\n",
        "covid_fp, covid_tp = 0, 0\n",
        "\n",
        "with torch.no_grad():\n",
        "# Test Set.. \n",
        "  for inputs,labels in val_image_dataloader:\n",
        "    X = inputs.to(device) # size => (Batch_size,3,224,224)\n",
        "    y = labels.to(device) # size => (Batch_size)\n",
        "            \n",
        "    outputs = model(X) # get predictions..size=> (Batch_size,no_of_classes)\n",
        "    _, preds = torch.max(outputs, 1) # preds size(Batch_size)       \n",
        "\n",
        "    for t, p in zip(labels.view(-1), preds.view(-1)):\n",
        "      if t == 2 and p == 2:\n",
        "        covid_tp += 1\n",
        "      elif p == 2 and t != 2:\n",
        "        covid_fp += 1\n",
        "      confusion_matrix[t, p] += 1\n",
        "\n",
        "print(confusion_matrix)\n",
        "print(\"Covid-19 precision: \",covid_tp/(covid_tp+covid_fp))"
      ],
      "execution_count": 0,
      "outputs": [
        {
          "output_type": "stream",
          "text": [
            "tensor([[1009.,   47.,    2.],\n",
            "        [  34.,  847.,    4.],\n",
            "        [   3.,    2.,    5.]])\n",
            "Covid-19 precision:  0.45454545454545453\n"
          ],
          "name": "stdout"
        }
      ]
    }
  ]
}